{
 "cells": [
  {
   "cell_type": "markdown",
   "metadata": {},
   "source": [
    "# Demo of polygon subsetting for ORNL DAAC OGC Services\n",
    "\n",
    "\n",
    "This notebook is in three sections, the first demonstrating the prerequisites that subsets from all services will require (that applies to the rasterization portion of section two as well), and the second and third show how to do the subsetting through THREDDS OPeNDAP and SDAT WCS services:\n",
    "1. [handling input vector dataset, including reprojection if necessary](#1.-Handling-input-vector-dataset)\n",
    "2. [polygon subset of the same Daymet grnaule through SDAT WCS service](#2.-Download-polygon-subset-from-SDAT-WCS-Service)\n",
    "3. [polygon subsetting of Daymet granule through THREDDS OPeNDAP service](#3.-THREDDS-polygon-subset-example-through-OPeNDAP)\n",
    "\n",
    "Also, We use `xarray` here instead of `netCDF4` because it's simpler, but they can be swapped easily if this is the general approach that we end up taking to do the polygon subsetting.\n",
    "\n",
    "-------------------\n",
    "\n",
    "## 1. Handling input vector dataset\n",
    "\n",
    "**import GDAL/OGR and read example shapefile**"
   ]
  },
  {
   "cell_type": "code",
   "execution_count": 1,
   "metadata": {},
   "outputs": [],
   "source": [
    "import matplotlib.pyplot as plt                  # not req; for plotting\n",
    "plt.rcParams['figure.figsize'] = 8, 10           # not req; for plotting\n",
    "\n",
    "from osgeo import gdal, ogr, osr\n",
    "import numpy as np\n",
    "\n",
    "input_polygon = \"example_poly/geo.shp\"           # an example polygon (1) shapefile"
   ]
  },
  {
   "cell_type": "markdown",
   "metadata": {},
   "source": [
    "The input polygon is a shapefile in WGS84 in this case, but the first step is to reproject into daymet projection so this code as it is will support any projection and OGR-supported format:"
   ]
  },
  {
   "cell_type": "code",
   "execution_count": 2,
   "metadata": {},
   "outputs": [
    {
     "data": {
      "text/plain": [
       "(-111.99594029999994,\n",
       " -111.27275125999992,\n",
       " 34.93856156000005,\n",
       " 35.58533901000003)"
      ]
     },
     "execution_count": 2,
     "metadata": {},
     "output_type": "execute_result"
    }
   ],
   "source": [
    "shp = ogr.Open(input_polygon)    # open shapefile\n",
    "lyr = shp.GetLayer()             # get first (and only) layer\n",
    "feat = lyr.GetFeature(0)         # select the layer's only feature\n",
    "geom = feat.GetGeometryRef()     # get feature's geometry\n",
    "ext = lyr.GetExtent()            # get its extent\n",
    "\n",
    "ext"
   ]
  },
  {
   "cell_type": "markdown",
   "metadata": {},
   "source": [
    "**Here's a map widget to see location of the polygon. None of the code in this blocked in necessary to the workflow:**"
   ]
  },
  {
   "cell_type": "code",
   "execution_count": 3,
   "metadata": {},
   "outputs": [
    {
     "data": {
      "application/vnd.jupyter.widget-view+json": {
       "model_id": "ab7b205bbead48e29f9164c9cf9ea976",
       "version_major": 2,
       "version_minor": 0
      },
      "text/plain": [
       "Map(basemap={'url': 'https://{s}.tile.openstreetmap.org/{z}/{x}/{y}.png', 'max_zoom': 19, 'attribution': 'Map …"
      ]
     },
     "metadata": {},
     "output_type": "display_data"
    }
   ],
   "source": [
    "from ipyleaflet import Map, GeoJSON, basemaps, basemap_to_tiles\n",
    "import json\n",
    "\n",
    "Map(layers=(\n",
    "        GeoJSON(data=json.loads(geom.ExportToJson())),\n",
    "        basemap_to_tiles(basemaps.NASAGIBS.ModisTerraTrueColorCR, \"2019-05-01\"),),\n",
    "    center=((ext[2]+ext[3])/2, (ext[0]+ext[1])/2),\n",
    "    scroll_wheel_zoom=True,\n",
    "    zoom=9)"
   ]
  },
  {
   "cell_type": "markdown",
   "metadata": {},
   "source": [
    "## 2. Download polygon subset from SDAT WCS Service\n",
    "\n",
    "(Correct me if I'm wrong Yaxing, but) The user will have to provide this information (could we come up with some routine for estimating the output resolution based on the requested raster's native resolution?):"
   ]
  },
  {
   "cell_type": "code",
   "execution_count": 4,
   "metadata": {},
   "outputs": [],
   "source": [
    "crs = \"EPSG:4326\"    # maybe force output SRS to match input polygon; more details below\n",
    "xres = 0.008983112\n",
    "yres = 0.008983112"
   ]
  },
  {
   "cell_type": "markdown",
   "metadata": {},
   "source": [
    "If the user is allowed to select custom output projection that does not match the input polygon, we have to reproject the polygon on the fly to rasterize and mask. I see no other way to do it besides having the input polygon drive the output projection. Am I wrong on that? \n",
    "\n",
    "GDAL/OGR has methods to get the srs definition in several formats, but not EPSG. `AutoIdentifyEPSG` tries to guess the EPSG based on the other available SRS information. I'm pretty confident that this would be the most robust way to try and get the EPSG from a user's input file with random SRS:\n",
    "```{python}\n",
    "> srs = lyr.GetSpatialRef()       # get's osr.SpatialReference from ogr dataset layer\n",
    "> srs.AutoIdentifyEPSG()          # references EPSG lookup table using the dataset's osr.SpatialReference\n",
    "> srs.GetAuthorityCode(None)      # returns the EPSG, if it was found (None==highest order authority)\n",
    "\n",
    "'4326'\n",
    "```\n",
    "\n",
    "GDAL's virtual dataset functionality will open the raster that is served through WCS without writing to disk:"
   ]
  },
  {
   "cell_type": "code",
   "execution_count": 5,
   "metadata": {},
   "outputs": [
    {
     "data": {
      "text/plain": [
       "'https://webmap.ornl.gov/ogcbroker/wcs?originator=Jupyter&service=WCS&version=1.0.0&request=GetCoverage&coverage=1345_230&crs=EPSG:4326&bbox=-111.99594029999994,34.93856156000005,-111.27275125999992,35.58533901000003&resx=0.008983112&resy=0.008983112&format=GeoTIFF_FLOAT32&time=1980-01&bands=1&interpolation=NEAREST'"
      ]
     },
     "execution_count": 5,
     "metadata": {},
     "output_type": "execute_result"
    }
   ],
   "source": [
    "wcsurl = (\"https://webmap.ornl.gov/ogcbroker/wcs?\"\n",
    "          \"originator=Jupyter&\"\n",
    "          \"service=WCS&\"\n",
    "          \"version=1.0.0&\"\n",
    "          \"request=GetCoverage&\"\n",
    "          \"coverage=1345_230&\"\n",
    "          \"crs={crs}&\"\n",
    "          \"bbox={xmin},{ymin},{xmax},{ymax}&\"\n",
    "          \"resx={xres}&\"\n",
    "          \"resy={yres}&\"\n",
    "          \"format=GeoTIFF_FLOAT32&\"\n",
    "          \"time=1980-01&\"\n",
    "          \"bands=1&\"\n",
    "          \"interpolation=NEAREST\")\n",
    "\n",
    "wcsurl = wcsurl.format(\n",
    "    xmin=ext[0],\n",
    "    ymin=ext[2],\n",
    "    xmax=ext[1],\n",
    "    ymax=ext[3],\n",
    "    xres=xres,\n",
    "    yres=yres,\n",
    "    crs=crs)\n",
    "\n",
    "wcsurl"
   ]
  },
  {
   "cell_type": "markdown",
   "metadata": {},
   "source": [
    "Import matplotlib for plotting.\n",
    "\n",
    "**vsicurl** goes in front of the URL to read directly into virtual raster dataset. And subsetting is done for us:"
   ]
  },
  {
   "cell_type": "code",
   "execution_count": 6,
   "metadata": {},
   "outputs": [
    {
     "data": {
      "text/plain": [
       "<matplotlib.image.AxesImage at 0x1785f180a58>"
      ]
     },
     "execution_count": 6,
     "metadata": {},
     "output_type": "execute_result"
    },
    {
     "data": {
      "image/png": "[encoded data removed]",
      "text/plain": [
       "<Figure size 432x288 with 1 Axes>"
      ]
     },
     "metadata": {
      "needs_background": "light"
     },
     "output_type": "display_data"
    }
   ],
   "source": [
    "tif = gdal.Open(\"/vsicurl/\"+wcsurl)              # grab GeoTIFF subset from SDAT\n",
    "\n",
    "plt.imshow(tif.GetRasterBand(1).ReadAsArray())   # plot the band 1 array"
   ]
  },
  {
   "cell_type": "markdown",
   "metadata": {},
   "source": [
    "**Make GDAL memory dataset of for rasterized polygon:**\n",
    "\n",
    "Use the dimensions, resolution, and SRS information of the GeoTIFF returned by SDAT WCS. The input polygon has to be reprojected if its SRS info doesn't match what was requested from WCS. I think this is a good reason to force the user's input polygon to drive the SRS selected for the output data. If not, we open the door for user error.\n",
    "\n",
    "*inside polygon == 1 ; outside polygon == 0*"
   ]
  },
  {
   "cell_type": "code",
   "execution_count": 7,
   "metadata": {},
   "outputs": [
    {
     "name": "stdout",
     "output_type": "stream",
     "text": [
      "0\n",
      "1\n"
     ]
    }
   ],
   "source": [
    "memras = gdal.GetDriverByName('MEM').Create(   # open memory raster\n",
    "    '',                                         # no file path required\n",
    "    tif.RasterXSize,                            # number of cols in mask should match the tif\n",
    "    tif.RasterYSize,                            # same for rows\n",
    "    1,                                          # **the number of bands**\n",
    "    gdal.GDT_Byte)                              # and the output type is byte because we only want 0,1\n",
    "\n",
    "band = memras.GetRasterBand(1)                  # select band 1\n",
    "band.Fill(0)                                    # fill with zeros\n",
    "band.SetNoDataValue(0)                          # set nodata value to 0\n",
    "memras.SetGeoTransform(tif.GetGeoTransform())   # set geotransform\n",
    "memras.SetProjection(tif.GetProjection())       # copy projection from SDAT WCS dataset\n",
    "\n",
    "err = gdal.RasterizeLayer(                     # rasterize memory vector layer\n",
    "    memras,                                     # memory raster \n",
    "    [1],                                        # band 1\n",
    "    lyr,                                        # memory vector layer\n",
    "    burn_values=[1])                            # polygon area == 1\n",
    "memras.FlushCache()                            # \"write\" changes \n",
    "\n",
    "m = memras.GetRasterBand(1).ReadAsArray()      # get the result as numpy array\n",
    "print(m.min()); print(m.max())                 # check by printing min,max"
   ]
  },
  {
   "cell_type": "markdown",
   "metadata": {},
   "source": [
    "Also, `numpy` is going to be requirement no matter what approach you take for this. GDAL's arrays are numpy objects, xarray's too. But I'm not sure if GDAL exposes these numpy functions to the user, so import numpy here too:"
   ]
  },
  {
   "cell_type": "code",
   "execution_count": 8,
   "metadata": {},
   "outputs": [
    {
     "data": {
      "text/plain": [
       "<matplotlib.image.AxesImage at 0x1785f226a58>"
      ]
     },
     "execution_count": 8,
     "metadata": {},
     "output_type": "execute_result"
    },
    {
     "data": {
      "image/png": "[encoded data removed]",
      "text/plain": [
       "<Figure size 432x288 with 1 Axes>"
      ]
     },
     "metadata": {
      "needs_background": "light"
     },
     "output_type": "display_data"
    }
   ],
   "source": [
    "array = tif.GetRasterBand(1).ReadAsArray()      # read the array from the raster band\n",
    "array_masked = np.ma.masked_where(m==0, array)  # use the numpy array to mask\n",
    "\n",
    "plt.imshow(array_masked)"
   ]
  },
  {
   "cell_type": "code",
   "execution_count": 9,
   "metadata": {},
   "outputs": [],
   "source": [
    "tif = None  # close the file"
   ]
  },
  {
   "cell_type": "markdown",
   "metadata": {},
   "source": [
    "## 3. THREDDS polygon subset example through OPeNDAP\n",
    "\n",
    "The input polygon layer needs to be reprojected for the OPeNDAP implementation. This is a blessing though, IMO, because it limits potential for needed to grid with WGS84.\n",
    "\n",
    "### OGR implementation for reprojecting the layer\n",
    "\n",
    "You may want to use a higher level package for this in production code... ?? `Fiona` is a good option; it's a python API for OGR without any third-party mess. \n",
    "\n",
    "**Get osr transform:**"
   ]
  },
  {
   "cell_type": "code",
   "execution_count": 10,
   "metadata": {},
   "outputs": [],
   "source": [
    "# daymet's proj4 string\n",
    "daymet_srs = (                                   \n",
    "    '+proj=lcc +lat_1=25 +lat_2=60 +lat_0=42.5 +lon_0=-100 +x_0=0 '\n",
    "    '+y_0=0 +a=6378137 +b=6356752.314706705 +units=m +no_defs ')\n",
    "\n",
    "source_srs = lyr.GetSpatialRef()                                 # get srs\n",
    "target_srs = osr.SpatialReference()                              # output srs\n",
    "target_srs.ImportFromProj4(daymet_srs)                           # import daymet proj\n",
    "\n",
    "transform = osr.CoordinateTransformation(source_srs, target_srs) # the transformation"
   ]
  },
  {
   "cell_type": "markdown",
   "metadata": {},
   "source": [
    "**Reproject input geometry to daymet lcc:**"
   ]
  },
  {
   "cell_type": "code",
   "execution_count": 11,
   "metadata": {},
   "outputs": [
    {
     "data": {
      "text/plain": [
       "<osgeo.ogr.Geometry; proxy of <Swig Object of type 'OGRGeometryShadow *' at 0x000001785AEC6810> >"
      ]
     },
     "execution_count": 11,
     "metadata": {},
     "output_type": "execute_result"
    }
   ],
   "source": [
    "geom.Transform(transform)                                        # transform to daymet lcc\n",
    "\n",
    "geom"
   ]
  },
  {
   "cell_type": "markdown",
   "metadata": {},
   "source": [
    "**Make a memory ogr vector layer:**"
   ]
  },
  {
   "cell_type": "code",
   "execution_count": 12,
   "metadata": {},
   "outputs": [
    {
     "data": {
      "text/plain": [
       "(-1049272.0963564266,\n",
       " -985164.9821343779,\n",
       " -729249.6405806087,\n",
       " -660885.2073472433)"
      ]
     },
     "execution_count": 12,
     "metadata": {},
     "output_type": "execute_result"
    }
   ],
   "source": [
    "memvector = ogr.GetDriverByName('Memory').CreateDataSource('mem')  # open OGR vector memory dataset\n",
    "memlyr = memvector.CreateLayer('poly', srs=target_srs)             # make a dummy layer in daymet lcc\n",
    "memfeat = ogr.Feature(memlyr.GetLayerDefn())                       # init a dummy feature\n",
    "memfeat.SetGeometryDirectly(geom)                                  # set transformed geom to feature\n",
    "memlyr.CreateFeature(memfeat)                                      # add dummy feature to layer\n",
    "\n",
    "lccext = memlyr.GetExtent()                                        # get the lcc extent for the next step\n",
    "lccext"
   ]
  },
  {
   "cell_type": "markdown",
   "metadata": {},
   "source": [
    "OPeNDAP gives us access to the file's header so that we can queue a series of operations that, using the coordinate arrays that define the position of the data along the x,y dimensions, index only what's inside our polygon and ignore data that we don't care about, keeping the download volume very small. \n",
    "\n",
    "The powerful capability here is that netCDF provides a mechanism to treat many similarly-structured granules in THREDDS as a single granule, a virtual dataset, assuming the data are structured in a way that's close to CF compliant:"
   ]
  },
  {
   "cell_type": "code",
   "execution_count": 13,
   "metadata": {},
   "outputs": [
    {
     "data": {
      "text/plain": [
       "<xarray.Dataset>\n",
       "Dimensions:                  (nv: 2, time: 365, x: 7814, y: 8075)\n",
       "Coordinates:\n",
       "  * x                        (x) float32 -4560250.0 -4559250.0 ... 3252750.0\n",
       "  * y                        (y) float32 4984000.0 4983000.0 ... -3090000.0\n",
       "  * time                     (time) datetime64[ns] 1980-01-01T12:00:00 ... 1980-12-30T12:00:00\n",
       "    lat                      (y, x) float32 ...\n",
       "    lon                      (y, x) float32 ...\n",
       "Dimensions without coordinates: nv\n",
       "Data variables:\n",
       "    yearday                  (time) int16 ...\n",
       "    time_bnds                (time, nv) datetime64[ns] ...\n",
       "    lambert_conformal_conic  int16 ...\n",
       "    tmin                     (time, y, x) float32 ...\n",
       "Attributes:\n",
       "    start_year:                      1980\n",
       "    source:                          Daymet Software Version 3.0\n",
       "    Version_software:                Daymet Software Version 3.0\n",
       "    Version_data:                    Daymet Data Version 3.0\n",
       "    Conventions:                     CF-1.6\n",
       "    citation:                        Please see http://daymet.ornl.gov/ for c...\n",
       "    references:                      Please see http://daymet.ornl.gov/ for c...\n",
       "    DODS_EXTRA.Unlimited_Dimension:  time"
      ]
     },
     "execution_count": 13,
     "metadata": {},
     "output_type": "execute_result"
    }
   ],
   "source": [
    "import xarray as xr\n",
    "\n",
    "# url to the same daymet granule served by opendap\n",
    "opendap_netcdf = ('https://thredds.daac.ornl.gov/thredds/dodsC/'\n",
    "                 'ornldaac/1328/1980/daymet_v3_tmin_1980_na.nc4')\n",
    "\n",
    "nc = xr.open_dataset(opendap_netcdf)\n",
    "nc"
   ]
  },
  {
   "cell_type": "markdown",
   "metadata": {},
   "source": [
    "**Note that only the coordinate variables that define the position of observations along the dimensions time, x, y are downloaded with the file's header. The rest of the data are represented by ellipses ...**\n",
    "\n",
    "Select only the data inside the extent of the reprojected polygon:"
   ]
  },
  {
   "cell_type": "code",
   "execution_count": 14,
   "metadata": {},
   "outputs": [
    {
     "data": {
      "text/plain": [
       "<xarray.Dataset>\n",
       "Dimensions:                  (nv: 2, time: 1, x: 65, y: 69)\n",
       "Coordinates:\n",
       "  * x                        (x) float32 -1049250.0 -1048250.0 ... -985250.0\n",
       "  * y                        (y) float32 -661000.0 -662000.0 ... -729000.0\n",
       "  * time                     (time) datetime64[ns] 1980-01-01T12:00:00\n",
       "    lat                      (y, x) float32 ...\n",
       "    lon                      (y, x) float32 ...\n",
       "Dimensions without coordinates: nv\n",
       "Data variables:\n",
       "    yearday                  (time) int16 ...\n",
       "    time_bnds                (time, nv) datetime64[ns] ...\n",
       "    lambert_conformal_conic  int16 ...\n",
       "    tmin                     (time, y, x) float32 ...\n",
       "Attributes:\n",
       "    start_year:                      1980\n",
       "    source:                          Daymet Software Version 3.0\n",
       "    Version_software:                Daymet Software Version 3.0\n",
       "    Version_data:                    Daymet Data Version 3.0\n",
       "    Conventions:                     CF-1.6\n",
       "    citation:                        Please see http://daymet.ornl.gov/ for c...\n",
       "    references:                      Please see http://daymet.ornl.gov/ for c...\n",
       "    DODS_EXTRA.Unlimited_Dimension:  time"
      ]
     },
     "execution_count": 14,
     "metadata": {},
     "output_type": "execute_result"
    }
   ],
   "source": [
    "nc_subset = nc.sel(                 # you select by dim coordinate using <dataset>.sel()\n",
    "    time=\"1980-01-01\",              # only gonna get 1 time step\n",
    "    x=slice(lccext[0],lccext[1]),   # the x coordinate slice\n",
    "    y=slice(lccext[3],lccext[2]))   # the y coordinate slice\n",
    "\n",
    "nc_subset                           # print the result:"
   ]
  },
  {
   "cell_type": "markdown",
   "metadata": {},
   "source": [
    "Dang, so simple...\n",
    "\n",
    "### GDAL implementation for rasterizing the layer\n",
    "Maybe use some higher-level package in production code here too.. ?\n",
    "\n",
    "**Get GDAL geotransform for daymet subset:**"
   ]
  },
  {
   "cell_type": "code",
   "execution_count": 15,
   "metadata": {},
   "outputs": [
    {
     "data": {
      "text/plain": [
       "(-1049250.0, 984.6153846153846, 0, -661000.0, 0, -985.5072463768116)"
      ]
     },
     "execution_count": 15,
     "metadata": {},
     "output_type": "execute_result"
    }
   ],
   "source": [
    "ncols = nc_subset.x.size               # most of this is self-explanatory\n",
    "nrows = nc_subset.y.size               # get number cols, rows\n",
    "\n",
    "ymax = nc_subset.y.max().data.item()   # get lcc extent\n",
    "ymin = nc_subset.y.min().data.item()\n",
    "xmax = nc_subset.x.max().data.item() \n",
    "xmin = nc_subset.x.min().data.item()\n",
    "\n",
    "yres = (ymax-ymin)/float(nrows)        # get x,y resolution\n",
    "xres = (xmax-xmin)/float(ncols)\n",
    "\n",
    "geotransform = (                       # put that info into affine tuple that\n",
    "    xmin, xres, 0, ymax, 0, -yres)     #  gdal uses to define transformation\n",
    "\n",
    "geotransform"
   ]
  },
  {
   "cell_type": "markdown",
   "metadata": {},
   "source": [
    "**Make GDAL memory raster dataset of rasterized polygon:**\n",
    "\n",
    "*inside polygon == 1 ; outside polygon == 0*"
   ]
  },
  {
   "cell_type": "code",
   "execution_count": 16,
   "metadata": {},
   "outputs": [
    {
     "name": "stdout",
     "output_type": "stream",
     "text": [
      "0\n",
      "1\n"
     ]
    }
   ],
   "source": [
    "memras = gdal.GetDriverByName('MEM').Create(   # open memory raster\n",
    "    '',                                         # no file path required\n",
    "    ncols,                                      # number of cols in mask should match nc_subset\n",
    "    nrows,                                      # same for rows\n",
    "    1,                                          # **the number of bands**\n",
    "    gdal.GDT_Byte)                              # and the output type is byte because we only want 0,1\n",
    "\n",
    "band = memras.GetRasterBand(1)                  # select band 1\n",
    "band.Fill(0)                                    # fill with zeros\n",
    "band.SetNoDataValue(0)                          # set nodata value to 0\n",
    "memras.SetGeoTransform(geotransform)            # set geotransform\n",
    "memras.SetProjection(target_srs.ExportToWkt())  # copy projection used for lcc memory vector\n",
    "\n",
    "err = gdal.RasterizeLayer(                     # rasterize memory vector layer\n",
    "    memras,                                     # memory raster \n",
    "    [1],                                        # band 1\n",
    "    memlyr,                                     # memory vector layer\n",
    "    burn_values=[1])                            # polygon area == 1\n",
    "memras.FlushCache()                            # \"write\" changes \n",
    "\n",
    "m = memras.GetRasterBand(1).ReadAsArray()      # get the result as numpy array\n",
    "print(m.min()); print(m.max())                 # check by printing min,max"
   ]
  },
  {
   "cell_type": "markdown",
   "metadata": {},
   "source": [
    "**Optional, but add the mask as a new variable in the `xarray.Dataset`**:"
   ]
  },
  {
   "cell_type": "code",
   "execution_count": 17,
   "metadata": {},
   "outputs": [
    {
     "data": {
      "text/plain": [
       "<xarray.Dataset>\n",
       "Dimensions:                  (nv: 2, time: 1, x: 65, y: 69)\n",
       "Coordinates:\n",
       "  * x                        (x) float32 -1049250.0 -1048250.0 ... -985250.0\n",
       "  * y                        (y) float32 -661000.0 -662000.0 ... -729000.0\n",
       "  * time                     (time) datetime64[ns] 1980-01-01T12:00:00\n",
       "    lat                      (y, x) float32 ...\n",
       "    lon                      (y, x) float32 ...\n",
       "Dimensions without coordinates: nv\n",
       "Data variables:\n",
       "    yearday                  (time) int16 ...\n",
       "    time_bnds                (time, nv) datetime64[ns] ...\n",
       "    lambert_conformal_conic  int16 ...\n",
       "    tmin                     (time, y, x) float32 ...\n",
       "    mask                     (y, x) uint8 0 0 0 0 0 0 0 0 0 ... 0 0 0 0 0 0 0 0\n",
       "Attributes:\n",
       "    start_year:                      1980\n",
       "    source:                          Daymet Software Version 3.0\n",
       "    Version_software:                Daymet Software Version 3.0\n",
       "    Version_data:                    Daymet Data Version 3.0\n",
       "    Conventions:                     CF-1.6\n",
       "    citation:                        Please see http://daymet.ornl.gov/ for c...\n",
       "    references:                      Please see http://daymet.ornl.gov/ for c...\n",
       "    DODS_EXTRA.Unlimited_Dimension:  time"
      ]
     },
     "execution_count": 17,
     "metadata": {},
     "output_type": "execute_result"
    }
   ],
   "source": [
    "nc_subset['mask'] = xr.DataArray(                   # add a new variable\n",
    "    m,                                              #  the mask array (numpy type)\n",
    "    coords=[nc_subset.y, nc_subset.x],              #  the coordinate arrays from target ds\n",
    "    dims=['y','x'],                                 #  the names of the dimensions for mask\n",
    "    attrs={                                         #  and some totally unnecessary attributes\n",
    "        'grid_mapping':'lambert_conformal_conic',\n",
    "        'flag_values': (0,1),\n",
    "        'flag_meanings': 'nodata data',\n",
    "        '_FillValue': 0})\n",
    "\n",
    "nc_subset"
   ]
  },
  {
   "cell_type": "markdown",
   "metadata": {},
   "source": [
    "**But you could just give them this:**\n",
    "\n",
    "(we use the dataset mask here, but it's just as simple to use numpy if you think it's better to skip the previous step)"
   ]
  },
  {
   "cell_type": "code",
   "execution_count": 18,
   "metadata": {},
   "outputs": [
    {
     "data": {
      "text/plain": [
       "<matplotlib.collections.QuadMesh at 0x1785f345588>"
      ]
     },
     "execution_count": 18,
     "metadata": {},
     "output_type": "execute_result"
    },
    {
     "data": {
      "image/png": "[encoded data removed]",
      "text/plain": [
       "<Figure size 720x576 with 2 Axes>"
      ]
     },
     "metadata": {
      "needs_background": "light"
     },
     "output_type": "display_data"
    }
   ],
   "source": [
    "# this is just to render the plot in jupyter notebook\n",
    "%matplotlib inline\n",
    "\n",
    "# set tmin to the NA where mask==1;\n",
    "nc_subset['tmin'] = nc_subset['tmin'].where(nc_subset.mask==1)\n",
    "\n",
    "# the result, tada:\n",
    "nc_subset['tmin'].plot(figsize=(10,8))"
   ]
  }
 ],
 "metadata": {
  "kernelspec": {
   "display_name": "Python 3",
   "language": "python",
   "name": "python3"
  },
  "language_info": {
   "codemirror_mode": {
    "name": "ipython",
    "version": 3
   },
   "file_extension": ".py",
   "mimetype": "text/x-python",
   "name": "python",
   "nbconvert_exporter": "python",
   "pygments_lexer": "ipython3",
   "version": "3.7.1"
  }
 },
 "nbformat": 4,
 "nbformat_minor": 2
}
